{
 "cells": [
  {
   "cell_type": "markdown",
   "metadata": {},
   "source": [
    "### The testing workflow below was referring to\n",
    "\n",
    "#### data preprocessing & batch data generator:\n",
    "https://github.com/lyakaap/Kaggle-Carvana-3rd-Place-Solution\n",
    "___"
   ]
  },
  {
   "cell_type": "code",
   "execution_count": null,
   "metadata": {},
   "outputs": [],
   "source": [
    "import threading\n",
    "import queue\n",
    "\n",
    "import numpy as np\n",
    "import pandas as pd\n",
    "\n",
    "from tqdm import tqdm\n",
    "\n",
    "from skimage.io import imread\n",
    "from skimage.transform import resize\n",
    "\n",
    "import tensorflow as tf\n",
    "from tensorflow.keras.models import load_model\n",
    "\n",
    "from loss import dice_coef, bce_dice_loss\n",
    "\n",
    "import warnings\n",
    "warnings.filterwarnings(\"ignore\")"
   ]
  },
  {
   "cell_type": "markdown",
   "metadata": {},
   "source": [
    "### Data Preprocessing & Batch Data Generator"
   ]
  },
  {
   "cell_type": "code",
   "execution_count": null,
   "metadata": {},
   "outputs": [],
   "source": [
    "WIDTH = 1024\n",
    "HEIGHT = 1024\n",
    "BATCH_SIZE = 4\n",
    "ORIG_WIDTH = 1920\n",
    "ORIG_HEIGHT = 1280\n",
    "\n",
    "\n",
    "def run_length_encode(mask):\n",
    "    inds = mask.flatten()\n",
    "    runs = np.where(inds[1:] != inds[:-1])[0] + 2\n",
    "    runs[1::2] = runs[1::2] - runs[:-1:2]\n",
    "    rle = ' '.join([str(r) for r in runs])\n",
    "    return rle\n",
    "\n",
    "\n",
    "def data_loader(q, ):\n",
    "    for start in range(0, len(ids_test), BATCH_SIZE):\n",
    "        x_batch = []\n",
    "        \n",
    "        end = min(start + BATCH_SIZE, len(ids_test))\n",
    "        ids_test_batch = ids_test[start:end]\n",
    "        \n",
    "        for id in ids_test_batch.values:\n",
    "            img = imread('data/test/{}.jpg'.format(_id))\n",
    "            img = resize(img, (WIDTH, HEIGHT), preserve_range=True)\n",
    "            \n",
    "            x_batch.append(img)\n",
    "        \n",
    "        x_batch = np.array(x_batch, np.float32) / 255.0\n",
    "        q.put(x_batch)\n",
    "\n",
    "\n",
    "def predictor(q, ):\n",
    "    for _ in tqdm(range(0, len(ids_test), BATCH_SIZE)):\n",
    "        x_batch = q.get()\n",
    "        \n",
    "        with graph.as_default():\n",
    "            preds = model.predict_on_batch(x_batch)\n",
    "        \n",
    "        preds = np.squeeze(preds, axis=3)\n",
    "        \n",
    "        for pred in preds:\n",
    "            prob = resize(pred, (ORIG_WIDTH, ORIG_HEIGHT), preserve_range=True)\n",
    "            mask = prob > 0.5\n",
    "            rle = run_length_encode(mask)\n",
    "            rles.append(rle)"
   ]
  },
  {
   "cell_type": "code",
   "execution_count": null,
   "metadata": {},
   "outputs": [],
   "source": [
    "df_test = pd.read_csv('data/sample_submission.csv')\n",
    "ids_test = df_test['img'].map(lambda s: s.split('.')[0])\n",
    "\n",
    "names = []\n",
    "for _id in ids_test:\n",
    "    names.append('{}.jpg'.format(_id))\n",
    "\n",
    "rles = []\n",
    "\n",
    "graph = tf.get_default_graph()\n",
    "\n",
    "q_size = 10"
   ]
  },
  {
   "cell_type": "markdown",
   "metadata": {},
   "source": [
    "### Importing Model"
   ]
  },
  {
   "cell_type": "code",
   "execution_count": null,
   "metadata": {},
   "outputs": [],
   "source": [
    "model = load_model(\"model_weights.hdf5\",custom_objects={'bce_dice_loss': bce_dice_loss, 'dice_coef': dice_coef})"
   ]
  },
  {
   "cell_type": "markdown",
   "metadata": {},
   "source": [
    "### Image Segmentation"
   ]
  },
  {
   "cell_type": "code",
   "execution_count": null,
   "metadata": {},
   "outputs": [],
   "source": [
    "q = queue.Queue(maxsize=q_size)\n",
    "\n",
    "t1 = threading.Thread(target=data_loader, name='DataLoader', args=(q,))\n",
    "t2 = threading.Thread(target=predictor, name='Predictor', args=(q,))\n",
    "\n",
    "t1.start()\n",
    "t2.start()\n",
    "\n",
    "t1.join()\n",
    "t2.join()"
   ]
  },
  {
   "cell_type": "code",
   "execution_count": null,
   "metadata": {},
   "outputs": [],
   "source": [
    "pd.DataFrame({'img': names, 'rle_mask': rles}).to_csv('submit/submission.csv.gz', index=False, compression='gzip')"
   ]
  }
 ],
 "metadata": {
  "kernelspec": {
   "display_name": "Python 3",
   "language": "python",
   "name": "python3"
  },
  "language_info": {
   "codemirror_mode": {
    "name": "ipython",
    "version": 3
   },
   "file_extension": ".py",
   "mimetype": "text/x-python",
   "name": "python",
   "nbconvert_exporter": "python",
   "pygments_lexer": "ipython3",
   "version": "3.6.6"
  }
 },
 "nbformat": 4,
 "nbformat_minor": 2
}
